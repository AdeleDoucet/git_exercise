{
 "cells": [
  {
   "cell_type": "markdown",
   "metadata": {},
   "source": [
    "### Git tools\n",
    "\n",
    "get all the versions/data base directly on your computeur \n",
    "\n",
    "hash : ID of the comit/version\n",
    "gitlab.com : version comercial (payent)\n",
    "\n",
    "to comit \n",
    "git add \n",
    "git comit"
   ]
  }
 ],
 "metadata": {
  "language_info": {
   "name": "python"
  }
 },
 "nbformat": 4,
 "nbformat_minor": 2
}
